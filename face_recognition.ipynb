{
 "cells": [
  {
   "cell_type": "code",
   "execution_count": 10,
   "metadata": {},
   "outputs": [
    {
     "ename": "ImportError",
     "evalue": "DLL load failed while importing cv2: Das angegebene Modul wurde nicht gefunden.",
     "output_type": "error",
     "traceback": [
      "\u001b[1;31m---------------------------------------------------------------------------\u001b[0m",
      "\u001b[1;31mImportError\u001b[0m                               Traceback (most recent call last)",
      "Cell \u001b[1;32mIn[10], line 8\u001b[0m\n\u001b[0;32m      6\u001b[0m \u001b[38;5;28;01mimport\u001b[39;00m \u001b[38;5;21;01mnumpy\u001b[39;00m \u001b[38;5;28;01mas\u001b[39;00m \u001b[38;5;21;01mnp\u001b[39;00m\n\u001b[0;32m      7\u001b[0m \u001b[38;5;28;01mimport\u001b[39;00m \u001b[38;5;21;01mos\u001b[39;00m\n\u001b[1;32m----> 8\u001b[0m \u001b[38;5;28;01mimport\u001b[39;00m \u001b[38;5;21;01mcv2\u001b[39;00m\n",
      "\u001b[1;31mImportError\u001b[0m: DLL load failed while importing cv2: Das angegebene Modul wurde nicht gefunden."
     ]
    }
   ],
   "source": [
    "import streamlit as st\n",
    "import pandas as pd\n",
    "from sklearn.model_selection import train_test_split\n",
    "from sklearn.linear_model import LinearRegression\n",
    "from sklearn.metrics import mean_squared_error\n",
    "import numpy as np\n",
    "import os\n",
    "import cv2"
   ]
  },
  {
   "cell_type": "code",
   "execution_count": null,
   "metadata": {},
   "outputs": [],
   "source": [
    "# Definieren Sie den Pfad zu Ihrem Datensatzordner\n",
    "data_folder = \"Bilder\"\n",
    "\n",
    "# Erstellen Sie leere Listen, um Gesichtsdaten und Labels zu speichern\n",
    "face_data = []\n",
    "labels = []\n",
    "\n",
    "# Iterieren Sie über die Ordner im Datensatzordner\n",
    "for folder_name in os.listdir(data_folder):\n",
    "    folder_path = os.path.join(data_folder, folder_name)\n",
    "    # Überprüfen Sie, ob es sich bei dem Element um einen Ordner handelt\n",
    "    if os.path.isdir(folder_path):\n",
    "        # Iterieren Sie über die Dateien im Ordner\n",
    "        for file_name in os.listdir(folder_path):\n",
    "            # Hier nehmen wir an, dass es sich um Bilddateien handelt. \n",
    "            # Sie können den Dateityp entsprechend Ihrem Datensatz anpassen.\n",
    "            # Fügen Sie die Bilddaten hinzu\n",
    "            image_path = os.path.join(folder_path, file_name)\n",
    "            # Laden des Bildes mit OpenCV\n",
    "            image = cv2.imread(image_path)\n",
    "            # Konvertieren des Bildes in ein Numpy-Array\n",
    "            image_np = np.array(image)\n",
    "            # Hinzufügen des Bilds zu den Gesichtsdaten\n",
    "            face_data.append(image_np)\n",
    "            # Fügen Sie das Label hinzu (Ordnername)\n",
    "            labels.append(folder_name)\n",
    "\n",
    "# Überprüfen der Gesichtsdaten und Labels\n",
    "print(\"Anzahl der Gesichtsdaten:\", len(face_data))\n",
    "print(\"Anzahl der Labels:\", len(labels))"
   ]
  }
 ],
 "metadata": {
  "kernelspec": {
   "display_name": "streamlit",
   "language": "python",
   "name": "python3"
  },
  "language_info": {
   "codemirror_mode": {
    "name": "ipython",
    "version": 3
   },
   "file_extension": ".py",
   "mimetype": "text/x-python",
   "name": "python",
   "nbconvert_exporter": "python",
   "pygments_lexer": "ipython3",
   "version": "3.11.8"
  }
 },
 "nbformat": 4,
 "nbformat_minor": 2
}
