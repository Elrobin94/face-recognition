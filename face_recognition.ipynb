{
 "cells": [
  {
   "cell_type": "code",
   "execution_count": 29,
   "metadata": {},
   "outputs": [],
   "source": [
    "from sklearn.model_selection import train_test_split\n",
    "from sklearn.linear_model import LinearRegression\n",
    "from sklearn.metrics import mean_squared_error\n",
    "from keras.preprocessing.image import ImageDataGenerator\n",
    "import numpy as np\n",
    "import os\n",
    "import cv2"
   ]
  },
  {
   "cell_type": "code",
   "execution_count": 58,
   "metadata": {},
   "outputs": [
    {
     "name": "stdout",
     "output_type": "stream",
     "text": [
      "Skipping non-image file: Augmented\n",
      "Skipping non-image file: Augmented\n"
     ]
    }
   ],
   "source": [
    "# Define the path to the dataset folder\n",
    "data_folder = \"Bilder\"\n",
    "\n",
    "# Define the new subfolder name for augmented images\n",
    "new_subfolder = \"Augmented\"\n",
    "\n",
    "# Define the path to the dataset folder\n",
    "data_folder = \"Bilder\"\n",
    "\n",
    "# Define the new subfolder name for augmented images\n",
    "new_subfolder = \"Augmented\"\n",
    "\n",
    "# Iterate over the folders in the dataset folder\n",
    "for folder_name in os.listdir(data_folder):\n",
    "    folder_path = os.path.join(data_folder, folder_name)\n",
    "    # Check if the item is a folder\n",
    "    if os.path.isdir(folder_path):\n",
    "        # Create a new subfolder for augmented images\n",
    "        new_folder_path = os.path.join(folder_path, new_subfolder)\n",
    "        os.makedirs(new_folder_path, exist_ok=True)\n",
    "        # Iterate over the files in the folder\n",
    "        for file_name in os.listdir(folder_path):\n",
    "            # Assuming the files are image files, you can adjust the file type according to your dataset\n",
    "            # Read the image using OpenCV\n",
    "            if file_name.lower().endswith(('.jpg', '.jpeg', '.png')):\n",
    "                image_path = os.path.join(folder_path, file_name)\n",
    "                image = cv2.imread(image_path)\n",
    "                # Check if the image is loaded successfully\n",
    "                if image is not None:\n",
    "                    # Perform image augmentation\n",
    "                    # Resize the image to a desired size\n",
    "                    resized_image = cv2.resize(image, (300, 300))\n",
    "                    datagen = ImageDataGenerator(\n",
    "                        rotation_range=40,\n",
    "                        width_shift_range=0.2,\n",
    "                        height_shift_range=0.2,\n",
    "                        shear_range=0.2,\n",
    "                        zoom_range=0.2,\n",
    "                        horizontal_flip=True,\n",
    "                        fill_mode='nearest'\n",
    "                    )\n",
    "                    # Reshape the image to add batch dimension\n",
    "                    reshaped_image = resized_image.reshape((1,) + resized_image.shape)\n",
    "                    # Generate and save augmented images\n",
    "                    i = 0\n",
    "                    for batch in datagen.flow(reshaped_image, batch_size=1, save_to_dir=new_folder_path, save_prefix='aug', save_format='png'):\n",
    "                        i += 1\n",
    "                        if i >= 100:\n",
    "                            break  # Break the loop after generating 100 augmented images\n",
    "                else:\n",
    "                    print(f\"Failed to load image: {image_path}\")\n",
    "            else:\n",
    "                print(f\"Skipping non-image file: {file_name}\")\n",
    "           \n",
    "\n",
    "            "
   ]
  },
  {
   "cell_type": "code",
   "execution_count": 61,
   "metadata": {},
   "outputs": [
    {
     "name": "stdout",
     "output_type": "stream",
     "text": [
      "Total images: 396\n",
      "Total labels: 396\n",
      "(300, 300, 3)\n",
      "Robin\n"
     ]
    }
   ],
   "source": [
    "# Initialize lists to store images and labels\n",
    "images = []\n",
    "labels = []\n",
    "\n",
    "# Iterate over the folders in the dataset folder\n",
    "for folder_name in os.listdir(data_folder):\n",
    "    folder_path = os.path.join(data_folder, folder_name)\n",
    "    # Check if the item is a folder\n",
    "    if os.path.isdir(folder_path):\n",
    "        # Get the label from the folder name\n",
    "        label = folder_name\n",
    "        # Get the path to the augmented folder\n",
    "        augmented_folder_path = os.path.join(folder_path, new_subfolder)\n",
    "        # Check if the augmented folder exists\n",
    "        if os.path.exists(augmented_folder_path):\n",
    "            # Iterate over the files in the augmented folder\n",
    "            for file_name in os.listdir(augmented_folder_path):\n",
    "                # Read the image using OpenCV\n",
    "                image_path = os.path.join(augmented_folder_path, file_name)\n",
    "                image = cv2.imread(image_path)\n",
    "                # Check if the image is loaded successfully\n",
    "                if image is not None:\n",
    "                    # Add the image to the list of images\n",
    "                    images.append(image)\n",
    "                    # Add the label to the list of labels\n",
    "                    labels.append(label)\n",
    "                else:\n",
    "                    print(f\"Failed to load image: {image_path}\")\n",
    "\n",
    "print(f\"Total images: {len(images)}\")\n",
    "print(f\"Total labels: {len(labels)}\")\n",
    "print(images[300].shape)\n",
    "print(labels[300])\n"
   ]
  },
  {
   "cell_type": "code",
   "execution_count": 69,
   "metadata": {},
   "outputs": [
    {
     "name": "stdout",
     "output_type": "stream",
     "text": [
      "Shape of HOG features: (0,)\n"
     ]
    }
   ],
   "source": [
    "from skimage import feature\n",
    "import numpy as np\n",
    "\n",
    "# Initialize a list to store HOG features\n",
    "hog_features = []\n",
    "\n",
    "# Iterate over the image vectors and labels\n",
    "for image_vector, label in zip(image, labels):\n",
    "    # Calculate HOG features for the RGB image\n",
    "    hog_feature_vector = feature.hog(image_vector, orientations=9, pixels_per_cell=(8, 8),\n",
    "                                     cells_per_block=(2, 2), block_norm='L2-Hys', visualize=False,\n",
    "                                     transform_sqrt=True)\n",
    "    \n",
    "    # Add the HOG features to the list\n",
    "    hog_features.append(hog_feature_vector)\n",
    "\n",
    "# Convert the list of HOG features to a numpy array\n",
    "hog_features = np.array(hog_features)\n",
    "\n",
    "# Print the shape of the HOG features\n",
    "print(\"Shape of HOG features:\", hog_features.shape)"
   ]
  }
 ],
 "metadata": {
  "kernelspec": {
   "display_name": "streamlit",
   "language": "python",
   "name": "python3"
  },
  "language_info": {
   "codemirror_mode": {
    "name": "ipython",
    "version": 3
   },
   "file_extension": ".py",
   "mimetype": "text/x-python",
   "name": "python",
   "nbconvert_exporter": "python",
   "pygments_lexer": "ipython3",
   "version": "3.8.18"
  }
 },
 "nbformat": 4,
 "nbformat_minor": 2
}
