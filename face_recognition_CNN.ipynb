{
 "cells": [
  {
   "cell_type": "markdown",
   "metadata": {},
   "source": [
    "# Imports\n"
   ]
  },
  {
   "cell_type": "code",
   "execution_count": null,
   "metadata": {},
   "outputs": [],
   "source": [
    "import numpy as np\n",
    "import tensorflow as tf\n",
    "from tensorflow import keras\n",
    "from keras.models import Sequential\n",
    "from keras.layers import Activation, Dense, Flatten,BatchNormalization, Conv2D, MaxPooling2D\n",
    "from keras.optimizers import Adam\n",
    "from keras.metrics import categorical_crossentropy\n",
    "from keras.preprocessing.image import ImageDataGenerator\n",
    "from sklearn.metrics import confusion_matrix\n",
    "import itertools\n",
    "import os\n",
    "import cv2\n",
    "import shutil\n",
    "import random\n",
    "import matplotlib.pyplot as plt\n",
    "import warnings\n",
    "import glob\n",
    "import joblib\n",
    "warnings.simplefilter(action='ignore', category=FutureWarning)\n",
    "%matplotlib inline\n",
    "from keras.layers import GlobalAveragePooling2D\n",
    "from keras.layers import MaxPool2D\n",
    "from keras.layers import Convolution2D\n",
    "from keras.layers import Flatten\n",
    "from keras.layers import Dense\n",
    "from keras.layers import Dropout\n",
    "from tensorflow.keras.applications import VGG16\n",
    "from sklearn.metrics import f1_score\n",
    "from tensorflow.keras.layers import Dense\n",
    "from keras.applications import DenseNet121\n",
    "from keras.models import Model\n",
    "from keras.layers import Dense, GlobalAveragePooling2D"
   ]
  },
  {
   "cell_type": "markdown",
   "metadata": {},
   "source": [
    "## Functions"
   ]
  },
  {
   "cell_type": "code",
   "execution_count": null,
   "metadata": {},
   "outputs": [],
   "source": [
    "def detect_face(image_path):\n",
    "    # Laden des Gesichtserkennungs-Klassifikators (Haar-Cascade)\n",
    "    face_cascade = cv2.CascadeClassifier(cv2.data.haarcascades + 'haarcascade_frontalface_default.xml')\n",
    "    # Laden des Bildes\n",
    "    image = cv2.imread(image_path)\n",
    "    if image is not None:\n",
    "        # Konvertieren des Bildes in Graustufen\n",
    "        gray = cv2.cvtColor(image, cv2.COLOR_BGR2GRAY)\n",
    "        # Gesichter im Bild erkennen\n",
    "        faces = face_cascade.detectMultiScale(gray, scaleFactor=1.1, minNeighbors=5, minSize=(200, 200))\n",
    "        if len(faces) > 0:\n",
    "            # Nehme das erste erkannte Gesicht\n",
    "            (x, y, w, h) = faces[0]\n",
    "            # Schneide das Gesicht aus\n",
    "            face = image[y:y+h, x:x+w]\n",
    "             # Zeichne ein Rechteck um das erkannte Gesicht\n",
    "            ##cv2.rectangle(image, (x, y), (x+w, y+h), (255, 0, 0), 2)\n",
    "            return face\n",
    "        else:\n",
    "            print(f\"No face detected in {image_path}\")\n",
    "            return None\n",
    "    else:\n",
    "        print(f\"Failed to load image: {image_path}\")\n",
    "        return None"
   ]
  },
  {
   "cell_type": "markdown",
   "metadata": {},
   "source": [
    "# Organize data into train and test dirs"
   ]
  },
  {
   "cell_type": "code",
   "execution_count": null,
   "metadata": {},
   "outputs": [],
   "source": [
    "# Ordnerstruktur erstellen und Bilder kopieren\n",
    "def create_dataset_with_face_detection(src_dir, dest_dir):\n",
    "    # Erstellen der Ordnerstruktur\n",
    "    for class_name in ['nino', 'robin']:\n",
    "        for dataset_type in ['train', 'valid', 'test']:\n",
    "            os.makedirs(os.path.join(dest_dir, dataset_type, class_name), exist_ok=True)\n",
    "\n",
    "    # Kopieren der Bilder mit Gesichtserkennung\n",
    "    for class_name in ['nino', 'robin']:\n",
    "        image_files = glob.glob(os.path.join(src_dir, class_name, '*'))\n",
    "        for dataset_type in ['train', 'valid', 'test']:\n",
    "            if dataset_type == 'train':\n",
    "                num_images_to_copy = 14\n",
    "            elif dataset_type == 'valid':\n",
    "                num_images_to_copy = 6\n",
    "            else:\n",
    "                num_images_to_copy = 4\n",
    "                \n",
    "            selected_images = random.sample(image_files, num_images_to_copy)\n",
    "            for image_path in selected_images:\n",
    "                face = detect_face(image_path)\n",
    "                if face is not None:\n",
    "                    dest_path = os.path.join(dest_dir, dataset_type, class_name, os.path.basename(image_path))\n",
    "                    cv2.imwrite(dest_path, face)\n",
    "                    print(f\"Saved {dest_path}\")\n",
    "\n",
    "# Pfad zum Quellverzeichnis der Bilder\n",
    "src_dir = 'archive'\n",
    "\n",
    "# Pfad zum Zielverzeichnis der Trainings-, Validierungs- und Testbilder\n",
    "dest_dir = 'face_dataset'\n",
    "\n",
    "# Erstellen der Datensätze mit Gesichtserkennung\n",
    "create_dataset_with_face_detection(src_dir, dest_dir)"
   ]
  },
  {
   "cell_type": "code",
   "execution_count": null,
   "metadata": {},
   "outputs": [],
   "source": [
    "os.chdir('face_dataset')\n",
    "if os.path.isdir('train/nino') is False:\n",
    "    os.makedirs('train/nino')\n",
    "    os.makedirs('train/robin')\n",
    "    os.makedirs('valid/nino')\n",
    "    os.makedirs('valid/robin')\n",
    "    os.makedirs('test/nino')\n",
    "    os.makedirs('test/robin')\n",
    "    \n",
    "    for c in random.sample(glob.glob('robin/*'), 16):\n",
    "        shutil.copy(c, 'train/robin/' + os.path.basename(c))\n",
    "    for c in random.sample(glob.glob('nino/*'), 16):\n",
    "        shutil.copy(c, 'train/nino/' + os.path.basename(c))\n",
    "    for c in random.sample(glob.glob('robin/*'), 4):\n",
    "        shutil.copy(c, 'valid/robin/'+ os.path.basename(c))\n",
    "    for c in random.sample(glob.glob('nino/*'), 4):\n",
    "        shutil.copy(c, 'valid/nino/'+ os.path.basename(c))\n",
    "    for c in random.sample(glob.glob('robin/*'), 4):\n",
    "        shutil.copy(c, 'test/robin/'+ os.path.basename(c))\n",
    "    for c in random.sample(glob.glob('nino/*'), 4):\n",
    "        shutil.copy(c, 'test/nino/'+ os.path.basename(c))"
   ]
  },
  {
   "cell_type": "code",
   "execution_count": null,
   "metadata": {},
   "outputs": [],
   "source": [
    "train_path = 'D:/ZHAW/3.Semester/face-recognition/face_dataset/train'\n",
    "valid_path = 'D:/ZHAW/3.Semester/face-recognition/face_dataset/valid'\n",
    "test_path  = 'D:/ZHAW/3.Semester/face-recognition/face_dataset/test'"
   ]
  },
  {
   "cell_type": "markdown",
   "metadata": {},
   "source": [
    "## Augmentation"
   ]
  },
  {
   "cell_type": "code",
   "execution_count": null,
   "metadata": {},
   "outputs": [],
   "source": [
    "# Laden der Bilder aus dem Originalverzeichnis\n",
    "#def augment(original_dir, augmented_dir):\n",
    "    #image_files = [os.path.join(original_dir, f) for f in os.listdir(original_dir) if os.path.isfile(os.path.join(original_dir, f))]\n",
    "    # Augmentierung und Speichern der Bilder\n",
    "    #for image_file in image_files:\n",
    "        #img = cv2.imread(image_file) # Hier die Funktion für das Laden und eventuelle Vorverarbeitung des Bildes einsetzen\n",
    "        #img = cv2.cvtColor(img, cv2.COLOR_BGR2RGB)\n",
    "       # img = cv2.resize(img, (224, 224))\n",
    "      #  img = img.reshape((1,) + img.shape)  # Reshape zu (1, height, width, channels) für den Generator\n",
    "     #   i = 0\n",
    "    #    for batch in datagen.flow(img, batch_size=1, save_to_dir=augmented_dir, save_prefix='augmented', save_format='jpg'):\n",
    "   #         i += 1\n",
    "  #          if i >= 30:  # Anzahl der zu generierenden augmentierten Bilder pro Originalbild\n",
    " #               break  # Abbruch, wenn die gewünschte Anzahl erreicht ist\n",
    "\n",
    "\n",
    "# Verzeichnis mit den Originalbildern\n",
    "#original_dir_nino = 'D:/ZHAW/3.Semester/face-recognition/face_dataset/train/nino'\n",
    "#original_dir_robin = 'D:/ZHAW/3.Semester/face-recognition/face_dataset/train/robin'\n",
    "# Verzeichnis, in das die augmentierten Bilder gespeichert werden sollen\n",
    "#augmented_dir_nino = 'D:/ZHAW/3.Semester/face-recognition/face_dataset/train/nino'\n",
    "#augmented_dir_robin = 'D:/ZHAW/3.Semester/face-recognition/face_dataset/train/robin'\n",
    "\n",
    "\n",
    "\n",
    "#augment(original_dir_nino, augmented_dir_nino)\n",
    "#augment(original_dir_robin, augmented_dir_robin)"
   ]
  },
  {
   "cell_type": "markdown",
   "metadata": {},
   "source": [
    "## Imagedatagenerator"
   ]
  },
  {
   "cell_type": "code",
   "execution_count": null,
   "metadata": {},
   "outputs": [],
   "source": [
    "# Erstellen eines ImageDataGenerator für die Augmentierung\n",
    "datagen = ImageDataGenerator(\n",
    "    rotation_range=20,\n",
    "    width_shift_range=0.2,\n",
    "    height_shift_range=0.2,\n",
    "    shear_range=0.2,\n",
    "    zoom_range=0.2,\n",
    "    horizontal_flip=True,\n",
    "    fill_mode='constant',\n",
    "    preprocessing_function=tf.keras.applications.vgg16.preprocess_input\n",
    "    )"
   ]
  },
  {
   "cell_type": "code",
   "execution_count": null,
   "metadata": {},
   "outputs": [],
   "source": [
    "#train_batches = ImageDataGenerator(preprocessing_function=tf.keras.applications.vgg16.preprocess_input) \\\n",
    " #   .flow_from_directory(directory=train_path, target_size=(224,224), classes=['robin', 'nino'], batch_size=10)\n",
    "#valid_batches = ImageDataGenerator(preprocessing_function=tf.keras.applications.vgg16.preprocess_input) \\\n",
    " #   .flow_from_directory(directory=valid_path, target_size=(224,224), classes=['robin', 'nino'], batch_size=10)\n",
    "#test_batches = ImageDataGenerator(preprocessing_function=tf.keras.applications.vgg16.preprocess_input) \\\n",
    " #   .flow_from_directory(directory=test_path, target_size=(224,224), classes=['robin', 'nino'], batch_size=10, shuffle=False)\n",
    "    "
   ]
  },
  {
   "cell_type": "code",
   "execution_count": 19,
   "metadata": {},
   "outputs": [
    {
     "name": "stdout",
     "output_type": "stream",
     "text": [
      "Found 28 images belonging to 2 classes.\n",
      "Found 12 images belonging to 2 classes.\n",
      "Found 8 images belonging to 2 classes.\n"
     ]
    }
   ],
   "source": [
    "# Erstellen der Datenströme für Training, Validierung und Test\n",
    "train_batches = datagen.flow_from_directory(\n",
    "    directory=train_path,\n",
    "    target_size=(224, 224),\n",
    "    classes=['robin', 'nino'],\n",
    "    batch_size=10\n",
    ")\n",
    "\n",
    "valid_batches = ImageDataGenerator(preprocessing_function=tf.keras.applications.vgg16.preprocess_input) \\\n",
    "    .flow_from_directory(directory=valid_path, target_size=(224,224), classes=['robin', 'nino'], batch_size=10)\n",
    "\n",
    "test_batches = ImageDataGenerator(preprocessing_function=tf.keras.applications.vgg16.preprocess_input) \\\n",
    "    .flow_from_directory(directory=test_path, target_size=(224,224), classes=['robin', 'nino'], batch_size=10, shuffle=False)"
   ]
  },
  {
   "cell_type": "code",
   "execution_count": null,
   "metadata": {},
   "outputs": [],
   "source": [
    "# Funktion zum Plotten von Bildern aus einem Bildgenerator\n",
    "def plot_images(generator, num_images=5):\n",
    "    # Lade eine Batch von Bildern\n",
    "    images, labels = next(generator)\n",
    "    \n",
    "    # Plotte die ersten num_images Bilder\n",
    "    for i in range(num_images):\n",
    "        plt.imshow(images[i])\n",
    "        plt.title(f\"Class: {labels[i]}\")\n",
    "        plt.axis('off')\n",
    "        plt.show()\n",
    "\n",
    "# Plotte Bilder aus dem Trainingsbatch\n",
    "print(\"Trainingsbilder:\")\n",
    "plot_images(train_batches)\n",
    "\n",
    "# Plotte Bilder aus dem Validierungsbatch\n",
    "print(\"Validierungsbilder:\")\n",
    "plot_images(valid_batches)\n",
    "\n",
    "# Plotte Bilder aus dem Testbatch\n",
    "print(\"Testbilder:\")\n",
    "plot_images(test_batches)"
   ]
  },
  {
   "cell_type": "code",
   "execution_count": null,
   "metadata": {},
   "outputs": [],
   "source": [
    "imgs, labels = next(train_batches)"
   ]
  },
  {
   "cell_type": "markdown",
   "metadata": {},
   "source": [
    "# Plot Images"
   ]
  },
  {
   "cell_type": "code",
   "execution_count": null,
   "metadata": {},
   "outputs": [],
   "source": [
    "def plotImages(images_arr):\n",
    "    fig, axes = plt.subplots(1, 10, figsize=(20,20))\n",
    "    axes = axes.flatten()\n",
    "    for img, ax in zip(images_arr, axes):\n",
    "        ax.imshow(img)\n",
    "        ax.axis('off')\n",
    "    plt.tight_layout()\n",
    "    plt.show()"
   ]
  },
  {
   "cell_type": "code",
   "execution_count": null,
   "metadata": {},
   "outputs": [],
   "source": [
    "plotImages(imgs)\n",
    "print(labels)"
   ]
  },
  {
   "cell_type": "markdown",
   "metadata": {},
   "source": [
    "# Build and train CNN"
   ]
  },
  {
   "cell_type": "code",
   "execution_count": null,
   "metadata": {},
   "outputs": [],
   "source": [
    "model = Sequential([\n",
    "    Conv2D(filters=32, kernel_size=(5, 5), activation='relu', padding = 'same', input_shape=(224,224,3)),\n",
    "    MaxPooling2D(pool_size=(2, 2), strides=2),\n",
    "    Conv2D(filters=64, kernel_size=(5, 5), activation='relu', padding = 'same'),\n",
    "    MaxPooling2D(pool_size=(2, 2), strides=2),\n",
    "    Flatten(),\n",
    "    Dense(units=2, activation='softmax'),\n",
    "])"
   ]
  },
  {
   "cell_type": "code",
   "execution_count": null,
   "metadata": {},
   "outputs": [],
   "source": [
    "model = Sequential([\n",
    "    # Convolutional Layer 1\n",
    "    Conv2D(filters=32, kernel_size=(3, 3), activation='relu', padding='same', input_shape=(224, 224, 3)),\n",
    "    MaxPooling2D(pool_size=(2, 2)),\n",
    "    \n",
    "    # Convolutional Layer 2\n",
    "    Conv2D(filters=64, kernel_size=(3, 3), activation='relu', padding='same'),\n",
    "    MaxPooling2D(pool_size=(2, 2)),\n",
    "    \n",
    "    # Convolutional Layer 3\n",
    "    Conv2D(filters=128, kernel_size=(3, 3), activation='relu', padding='same'),\n",
    "    MaxPooling2D(pool_size=(2, 2)),\n",
    "    \n",
    "    # Flattening Layer\n",
    "    Flatten(),\n",
    "    \n",
    "    # Fully Connected Layer\n",
    "    Dense(units=512, activation='relu'),\n",
    "    \n",
    "    # Dropout Layer to reduce overfitting\n",
    "    Dropout(0.5),\n",
    "    \n",
    "    # Output Layer\n",
    "    Dense(units=2, activation='softmax')\n",
    "    ])"
   ]
  },
  {
   "cell_type": "markdown",
   "metadata": {},
   "source": [
    "## VGG Model"
   ]
  },
  {
   "cell_type": "code",
   "execution_count": 20,
   "metadata": {},
   "outputs": [],
   "source": [
    "# Erstellen eines Sequential-Modells\n",
    "model = Sequential()\n",
    "\n",
    "# Hinzufügen des VGG16-Modells\n",
    "model.add(VGG16(weights='imagenet', include_top=False, input_shape=(224, 224, 3)))\n",
    "\n",
    "# Einfrieren der Gewichte des VGG16-Modells, um sie während des Trainings nicht zu aktualisieren\n",
    "model.layers[0].trainable = False\n",
    "\n",
    "# Hinzufügen der weiteren Schichten\n",
    "model.add(Flatten())\n",
    "model.add(Dense(256, activation='relu'))\n",
    "model.add(Dense(2, activation='softmax'))  # Annahme von 2 Klassen"
   ]
  },
  {
   "cell_type": "markdown",
   "metadata": {},
   "source": [
    "## Dense"
   ]
  },
  {
   "cell_type": "code",
   "execution_count": null,
   "metadata": {},
   "outputs": [],
   "source": [
    "\n",
    "# Laden des vortrainierten DenseNet-Modells ohne die Top-Schicht (Ausgabeschicht)\n",
    "base_model = DenseNet121(weights='imagenet', include_top=False, input_shape=(224, 224, 3))\n",
    "\n",
    "# Hinzufügen der neuen Ausgabeschicht\n",
    "x = base_model.output\n",
    "x = GlobalAveragePooling2D()(x)  \n",
    "predictions = Dense(2, activation='softmax')(x)  # 2 Klassen\n",
    "\n",
    "# Definieren des neuen Modells mit der angepassten Ausgabeschicht\n",
    "model = Model(inputs=base_model.input, outputs=predictions)\n",
    "\n",
    "# Optional: Einfrieren der Gewichte des vortrainierten Teils des Modells\n",
    "for layer in base_model.layers:\n",
    "    layer.trainable = False\n",
    "\n",
    "# Kompilieren des Modells\n",
    "model.compile(optimizer='adam', loss='categorical_crossentropy', metrics=['accuracy'])"
   ]
  },
  {
   "cell_type": "markdown",
   "metadata": {},
   "source": [
    "## Compile Model"
   ]
  },
  {
   "cell_type": "code",
   "execution_count": 21,
   "metadata": {},
   "outputs": [
    {
     "name": "stdout",
     "output_type": "stream",
     "text": [
      "Epoch 1/30\n",
      "3/3 - 5s - loss: 20.1125 - accuracy: 0.4643 - val_loss: 4.1921 - val_accuracy: 0.7500\n",
      "Epoch 2/30\n",
      "3/3 - 5s - loss: 13.6153 - accuracy: 0.6786 - val_loss: 7.5684 - val_accuracy: 0.6667\n",
      "Epoch 3/30\n",
      "3/3 - 4s - loss: 6.2501 - accuracy: 0.7500 - val_loss: 0.4339 - val_accuracy: 0.9167\n",
      "Epoch 4/30\n",
      "3/3 - 4s - loss: 9.6442 - accuracy: 0.7857 - val_loss: 0.3214 - val_accuracy: 0.9167\n",
      "Epoch 5/30\n",
      "3/3 - 4s - loss: 11.3308 - accuracy: 0.7143 - val_loss: 0.0013 - val_accuracy: 1.0000\n",
      "Epoch 6/30\n",
      "3/3 - 4s - loss: 6.2498 - accuracy: 0.6786 - val_loss: 0.0046 - val_accuracy: 1.0000\n",
      "Epoch 7/30\n",
      "3/3 - 5s - loss: 8.4902 - accuracy: 0.7857 - val_loss: 2.6822e-07 - val_accuracy: 1.0000\n",
      "Epoch 8/30\n",
      "3/3 - 5s - loss: 4.1081 - accuracy: 0.8214 - val_loss: 2.1007 - val_accuracy: 0.9167\n",
      "Epoch 9/30\n",
      "3/3 - 4s - loss: 7.8122 - accuracy: 0.7500 - val_loss: 2.4146 - val_accuracy: 0.9167\n",
      "Epoch 10/30\n",
      "3/3 - 5s - loss: 9.1291 - accuracy: 0.7857 - val_loss: 0.7819 - val_accuracy: 0.9167\n",
      "Epoch 11/30\n",
      "3/3 - 4s - loss: 5.0486 - accuracy: 0.7857 - val_loss: 9.9341e-09 - val_accuracy: 1.0000\n",
      "Epoch 12/30\n",
      "3/3 - 5s - loss: 3.8463 - accuracy: 0.8571 - val_loss: 0.0000e+00 - val_accuracy: 1.0000\n",
      "Epoch 13/30\n",
      "3/3 - 4s - loss: 2.0428 - accuracy: 0.9286 - val_loss: 0.0000e+00 - val_accuracy: 1.0000\n",
      "Epoch 14/30\n",
      "3/3 - 5s - loss: 2.0026 - accuracy: 0.8929 - val_loss: 0.0000e+00 - val_accuracy: 1.0000\n",
      "Epoch 15/30\n",
      "3/3 - 5s - loss: 2.6360 - accuracy: 0.8571 - val_loss: 5.9605e-08 - val_accuracy: 1.0000\n",
      "Epoch 16/30\n",
      "3/3 - 5s - loss: 0.4780 - accuracy: 0.9643 - val_loss: 1.1722e-06 - val_accuracy: 1.0000\n",
      "Epoch 17/30\n",
      "3/3 - 5s - loss: 0.0022 - accuracy: 1.0000 - val_loss: 4.3014e-06 - val_accuracy: 1.0000\n",
      "Epoch 18/30\n",
      "3/3 - 4s - loss: 0.0501 - accuracy: 0.9643 - val_loss: 2.3842e-07 - val_accuracy: 1.0000\n",
      "Epoch 19/30\n",
      "3/3 - 4s - loss: 2.5947 - accuracy: 0.8214 - val_loss: 1.1890e-05 - val_accuracy: 1.0000\n",
      "Epoch 20/30\n",
      "3/3 - 5s - loss: 0.0194 - accuracy: 1.0000 - val_loss: 0.0623 - val_accuracy: 0.9167\n",
      "Epoch 21/30\n",
      "3/3 - 5s - loss: 1.7444 - accuracy: 0.8929 - val_loss: 0.0046 - val_accuracy: 1.0000\n",
      "Epoch 22/30\n",
      "3/3 - 5s - loss: 0.2578 - accuracy: 0.9643 - val_loss: 6.9539e-08 - val_accuracy: 1.0000\n",
      "Epoch 23/30\n",
      "3/3 - 5s - loss: 0.0858 - accuracy: 0.9643 - val_loss: 0.0000e+00 - val_accuracy: 1.0000\n",
      "Epoch 24/30\n",
      "3/3 - 5s - loss: 0.4215 - accuracy: 0.9643 - val_loss: 0.0000e+00 - val_accuracy: 1.0000\n",
      "Epoch 25/30\n",
      "3/3 - 5s - loss: 1.9420 - accuracy: 0.9286 - val_loss: 0.0000e+00 - val_accuracy: 1.0000\n",
      "Epoch 26/30\n",
      "3/3 - 5s - loss: 0.2600 - accuracy: 0.9643 - val_loss: 0.0000e+00 - val_accuracy: 1.0000\n",
      "Epoch 27/30\n",
      "3/3 - 5s - loss: 0.8056 - accuracy: 0.9286 - val_loss: 0.0000e+00 - val_accuracy: 1.0000\n",
      "Epoch 28/30\n",
      "3/3 - 5s - loss: 0.4935 - accuracy: 0.9643 - val_loss: 0.0000e+00 - val_accuracy: 1.0000\n",
      "Epoch 29/30\n",
      "3/3 - 5s - loss: 5.3218e-07 - accuracy: 1.0000 - val_loss: 9.9341e-08 - val_accuracy: 1.0000\n",
      "Epoch 30/30\n",
      "3/3 - 4s - loss: 0.0046 - accuracy: 1.0000 - val_loss: 3.1391e-06 - val_accuracy: 1.0000\n"
     ]
    },
    {
     "data": {
      "image/png": "[encoded data removed]",
      "text/plain": [
       "<Figure size 640x480 with 1 Axes>"
      ]
     },
     "metadata": {},
     "output_type": "display_data"
    }
   ],
   "source": [
    "# Kompilieren des Modells\n",
    "model.compile(optimizer='adam', loss='categorical_crossentropy', metrics=['accuracy'])\n",
    "\n",
    "history = model.fit(x=train_batches, validation_data=valid_batches, epochs=30, verbose=2)\n",
    "\n",
    "test_imgs, test_labels = next(test_batches)\n",
    "\n",
    "test_batches.classes\n",
    "\n",
    "predictions = model.predict(x=test_batches, verbose=0)\n",
    "\n",
    "np.round(predictions)\n",
    "\n",
    "# Plot the learning curve\n",
    "plt.plot(history.history['accuracy'], label='Training Accuracy')\n",
    "plt.plot(history.history['val_accuracy'], label='Validation Accuracy')\n",
    "plt.xlabel('Epoch')\n",
    "plt.ylabel('Accuracy')\n",
    "plt.title('Training and Validation Accuracy')\n",
    "plt.legend()\n",
    "plt.show()\n",
    "\n",
    "\n"
   ]
  },
  {
   "cell_type": "code",
   "execution_count": 22,
   "metadata": {},
   "outputs": [],
   "source": [
    "# Speichern des Modells\n",
    "model.save(\"D:/ZHAW/3.Semester/face-recognition/mein_keras_modell.h5\")"
   ]
  },
  {
   "cell_type": "code",
   "execution_count": 23,
   "metadata": {},
   "outputs": [
    {
     "name": "stdout",
     "output_type": "stream",
     "text": [
      "Image 1: Actual Class = robin, Predicted Class = robin, Confidence = 1.00\n",
      "Image 2: Actual Class = robin, Predicted Class = robin, Confidence = 1.00\n",
      "Image 3: Actual Class = robin, Predicted Class = robin, Confidence = 1.00\n",
      "Image 4: Actual Class = robin, Predicted Class = robin, Confidence = 1.00\n",
      "Image 5: Actual Class = nino, Predicted Class = nino, Confidence = 1.00\n",
      "Image 6: Actual Class = nino, Predicted Class = nino, Confidence = 1.00\n",
      "Image 7: Actual Class = nino, Predicted Class = nino, Confidence = 1.00\n",
      "Image 8: Actual Class = nino, Predicted Class = nino, Confidence = 1.00\n"
     ]
    }
   ],
   "source": [
    "# Festlegen der Anzahl der anzuzeigenden Bilder\n",
    "num_images_to_display = 8\n",
    "\n",
    "# Ausgabe der Vorhersagen und Zuversicht für die ersten num_images_to_display Bilder\n",
    "for i in range(num_images_to_display):\n",
    "    # Index des aktuellen Bilds\n",
    "    img_index = i\n",
    "    \n",
    "    # Vorhersagen für das aktuelle Bild\n",
    "    prediction = predictions[img_index]\n",
    "    \n",
    "    # Tatsächliche Klasse des aktuellen Bilds\n",
    "    actual_class = \"robin\" if test_labels[img_index][0] == 1 else \"nino\"\n",
    "    \n",
    "    # Vorhergesagte Klasse des aktuellen Bilds\n",
    "    predicted_class = \"robin\" if prediction[0] >= 0.5 else \"nino\"\n",
    "    \n",
    "    # Zuversicht (Sicherheit) der Vorhersage für die vorhergesagte Klasse\n",
    "    confidence = prediction[0] if predicted_class == \"robin\" else 1 - prediction[0]\n",
    "    \n",
    "    # Ausgabe der Vorhersage und Zuversicht\n",
    "    print(f\"Image {img_index + 1}: Actual Class = {actual_class}, Predicted Class = {predicted_class}, Confidence = {confidence:.2f}\")"
   ]
  },
  {
   "cell_type": "code",
   "execution_count": 24,
   "metadata": {},
   "outputs": [
    {
     "name": "stdout",
     "output_type": "stream",
     "text": [
      "Confusion matrix, without normalization\n",
      "[[4 0]\n",
      " [0 4]]\n"
     ]
    },
    {
     "data": {
      "image/png": "[encoded data removed]",
      "text/plain": [
       "<Figure size 640x480 with 2 Axes>"
      ]
     },
     "metadata": {},
     "output_type": "display_data"
    }
   ],
   "source": [
    "\n",
    "cm = confusion_matrix(y_true=test_batches.classes, y_pred=np.argmax(predictions, axis=-1))\n",
    "\n",
    "def plot_confusion_matrix(cm, classes,\n",
    "                            normalize=False,\n",
    "                            title='Confusion matrix',\n",
    "                            cmap=plt.cm.Blues):\n",
    "        \"\"\"\n",
    "        This function prints and plots the confusion matrix.\n",
    "        Normalization can be applied by setting `normalize=True`.\n",
    "        \"\"\"\n",
    "        plt.imshow(cm, interpolation='nearest', cmap=cmap)\n",
    "        plt.title(title)\n",
    "        plt.colorbar()\n",
    "        tick_marks = np.arange(len(classes))\n",
    "        plt.xticks(tick_marks, classes, rotation=45)\n",
    "        plt.yticks(tick_marks, classes)\n",
    "    \n",
    "        if normalize:\n",
    "            cm = cm.astype('float') / cm.sum(axis=1)[:, np.newaxis]\n",
    "            print(\"Normalized confusion matrix\")\n",
    "        else:\n",
    "            print('Confusion matrix, without normalization')\n",
    "    \n",
    "        print(cm)\n",
    "    \n",
    "        thresh = cm.max() / 2.\n",
    "        for i, j in itertools.product(range(cm.shape[0]), range(cm.shape[1])):\n",
    "            plt.text(j, i, cm[i, j],\n",
    "                horizontalalignment=\"center\",\n",
    "                color=\"white\" if cm[i, j] > thresh else \"black\")\n",
    "    \n",
    "        plt.tight_layout()\n",
    "        plt.ylabel('True label')\n",
    "        plt.xlabel('Predicted label')\n",
    "\n",
    "cm_plot_labels = ['robin','nino']\n",
    "plot_confusion_matrix(cm=cm, classes=cm_plot_labels, title='Confusion Matrix')\n"
   ]
  },
  {
   "cell_type": "code",
   "execution_count": 25,
   "metadata": {},
   "outputs": [
    {
     "name": "stdout",
     "output_type": "stream",
     "text": [
      "F1-Score: 1.0\n"
     ]
    }
   ],
   "source": [
    "# Konvertiere die vorhergesagten Wahrscheinlichkeiten in Klassenlabels\n",
    "predicted_classes = np.argmax(predictions, axis=1)\n",
    "\n",
    "# Berechne den F1-Score\n",
    "f1score = f1_score(test_batches.classes, predicted_classes, average='weighted')\n",
    "\n",
    "print(\"F1-Score:\", f1score)"
   ]
  }
 ],
 "metadata": {
  "kernelspec": {
   "display_name": "tensorflow",
   "language": "python",
   "name": "python3"
  },
  "language_info": {
   "codemirror_mode": {
    "name": "ipython",
    "version": 3
   },
   "file_extension": ".py",
   "mimetype": "text/x-python",
   "name": "python",
   "nbconvert_exporter": "python",
   "pygments_lexer": "ipython3",
   "version": "3.8.19"
  }
 },
 "nbformat": 4,
 "nbformat_minor": 2
}
